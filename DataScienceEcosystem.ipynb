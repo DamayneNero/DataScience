{
 "cells": [
  {
   "cell_type": "markdown",
   "id": "9da72440-0b4d-4a70-89a1-55c81ea7cf57",
   "metadata": {},
   "source": [
    "# Data Science Tools and Ecosystem"
   ]
  },
  {
   "cell_type": "markdown",
   "id": "fd20cad7-099b-458d-9679-ef7bedfd2316",
   "metadata": {},
   "source": [
    "In this notebook, Data Science Tools and Ecosystem are summarized."
   ]
  },
  {
   "cell_type": "markdown",
   "id": "e60f6c87-546a-4cc8-ab76-9b39750b39e8",
   "metadata": {},
   "source": [
    "Some of the popular languages that Data Scientists use are:\n",
    "    \n",
    "    1. Python\n",
    "    2. R\n",
    "    3. Java"
   ]
  },
  {
   "cell_type": "markdown",
   "id": "0454e554-267f-4378-856f-9baa7230166b",
   "metadata": {},
   "source": [
    "Some of the commonly used libraries used by Data Scientists include:\n",
    "    \n",
    "    1. scikit-learn\n",
    "    2. TensorFlow\n",
    "    3. PyTorch"
   ]
  },
  {
   "cell_type": "markdown",
   "id": "97c0f39d-c054-4a09-876e-1349e8e37143",
   "metadata": {
    "tags": []
   },
   "source": [
    "| Data Science Tools |\n",
    "| --- |\n",
    "| Jupyter |\n",
    "| VsCode |\n",
    "| Rstudio |"
   ]
  },
  {
   "cell_type": "markdown",
   "id": "ede77ecb-96b3-4d82-915f-953c457296a7",
   "metadata": {},
   "source": [
    "### Below are a few examples of evaluating arithmetic expressions in Python"
   ]
  },
  {
   "cell_type": "code",
   "execution_count": 3,
   "id": "01a91efe-3f75-40ca-b22d-29924e2f6ffd",
   "metadata": {
    "tags": []
   },
   "outputs": [
    {
     "data": {
      "text/plain": [
       "17"
      ]
     },
     "execution_count": 3,
     "metadata": {},
     "output_type": "execute_result"
    }
   ],
   "source": [
    "(3*4)+5\n",
    "# This a simple arithmetic expression to mutiply then add integers"
   ]
  },
  {
   "cell_type": "code",
   "execution_count": 14,
   "id": "2a702d6c-2f66-4d3e-8249-156f969c1e4f",
   "metadata": {
    "tags": []
   },
   "outputs": [
    {
     "name": "stdout",
     "output_type": "stream",
     "text": [
      "3.3333333333333335 hours\n"
     ]
    }
   ],
   "source": [
    "hours = 200/60\n",
    "print(str(hours) + \" hours\")\n",
    "# This will convert 200 minutes to hours by diving by 60"
   ]
  },
  {
   "cell_type": "markdown",
   "id": "246e8df2-7930-4e52-bff6-0c45b9d26c49",
   "metadata": {},
   "source": [
    "**Objectives:**\n",
    "- Create a Jupyter Notebook\n",
    "- Create markdown cell with title of the notebook\n",
    "- Create a markdown cell for an introduction\n",
    "- Create a markdown cell to list data science languages\n",
    "- Create a markdown cell to list data science libraries"
   ]
  },
  {
   "cell_type": "markdown",
   "id": "1d6688a0-0932-4694-a0cf-9ef71e9c234e",
   "metadata": {},
   "source": [
    "## Author\n",
    "Kyle Nero"
   ]
  },
  {
   "cell_type": "code",
   "execution_count": null,
   "id": "8bcceec5-b694-4e79-844f-a1be421e1a65",
   "metadata": {},
   "outputs": [],
   "source": []
  }
 ],
 "metadata": {
  "kernelspec": {
   "display_name": "Python",
   "language": "python",
   "name": "conda-env-python-py"
  },
  "language_info": {
   "codemirror_mode": {
    "name": "ipython",
    "version": 3
   },
   "file_extension": ".py",
   "mimetype": "text/x-python",
   "name": "python",
   "nbconvert_exporter": "python",
   "pygments_lexer": "ipython3",
   "version": "3.7.12"
  }
 },
 "nbformat": 4,
 "nbformat_minor": 5
}
